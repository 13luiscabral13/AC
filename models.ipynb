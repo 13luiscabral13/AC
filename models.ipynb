{
 "cells": [
  {
   "cell_type": "code",
   "execution_count": null,
   "metadata": {},
   "outputs": [],
   "source": [
    "import pandas as pd\n",
    "from sklearn.tree import DecisionTreeClassifier\n",
    "from sklearn.metrics import accuracy_score\n",
    "from sklearn.model_selection import train_test_split\n",
    "from sklearn.model_selection import TimeSeriesSplit, GroupKFold\n",
    "from sklearn.preprocessing import LabelEncoder\n",
    "from sklearn.tree import DecisionTreeClassifier\n",
    "from datetime import datetime\n",
    "from sklearn.metrics import classification_report\n",
    "from sklearn.ensemble import RandomForestClassifier\n",
    "import graphviz\n",
    "from sklearn.tree import export_graphviz"
   ]
  },
  {
   "cell_type": "code",
   "execution_count": null,
   "metadata": {},
   "outputs": [],
   "source": [
    "df = pd.read_csv('combinedData.csv')"
   ]
  },
  {
   "cell_type": "markdown",
   "metadata": {},
   "source": [
    "Encoding"
   ]
  },
  {
   "cell_type": "code",
   "execution_count": null,
   "metadata": {},
   "outputs": [],
   "source": [
    "id_features = ['tmID','playerID', 'college', 'collegeOther', 'coachID']\n",
    "categorical_features = [ 'pos', 'award', 'confID', 'results']\n",
    "df = pd.get_dummies(df, columns=categorical_features)\n"
   ]
  },
  {
   "cell_type": "code",
   "execution_count": null,
   "metadata": {},
   "outputs": [],
   "source": [
    "for feature in id_features:\n",
    "    label_encoder = LabelEncoder()\n",
    "    df[f'{feature}_encoded'] = label_encoder.fit_transform(df[feature])\n",
    "\n",
    "df['playoff'] = df['playoff'].replace({'N': 0, 'Y': 1})\n",
    "\n",
    "df = df.drop(columns=id_features)"
   ]
  },
  {
   "cell_type": "code",
   "execution_count": null,
   "metadata": {},
   "outputs": [],
   "source": [
    "#YYYY-MM-DD to unix\n",
    "df['birthDataUnix'] = pd.to_datetime(df['birthDate']).apply(lambda x: int(x.timestamp()))\n",
    "df = df.drop(columns=['birthDate'])\n",
    "\n",
    "df_original=df\n",
    "feature_cols = [col for col in df.columns if col not in ['playoff']]"
   ]
  },
  {
   "cell_type": "markdown",
   "metadata": {},
   "source": [
    "# Data Leakage\n",
    "\n",
    "features not to replace with last years:\n",
    " - tmID\n",
    " - year\n",
    " - playerID\n",
    " - stint\n",
    " - pos\n",
    " - height\n",
    " - weight\n",
    " - college\n",
    " - college other\n",
    " - birthDate\n",
    " - age\n",
    " - coachId\n",
    " - coachStint\n",
    " - confID"
   ]
  },
  {
   "cell_type": "code",
   "execution_count": null,
   "metadata": {},
   "outputs": [],
   "source": [
    "features_to_replace = [col for col in feature_cols if col not in [\n",
    "    'tmID', 'year', 'playerID', 'stint', 'pos', 'height', 'weight', 'college',\n",
    "    'collegeOther', 'birthDate', 'age', 'coachID', 'coachStint', 'confID',\n",
    "    'tmID_encoded', 'playerID_encoded', 'college_encoded','collegeOther_encoded',\n",
    "    'coachID_encoded','birthDataUnix','confID_EA','confID_WE','pos_C','pos_C-F',\n",
    "    'pos_F','pos_F-C','pos_F-G','pos_G','pos_G-F']]\n",
    "\n",
    "print(features_to_replace)"
   ]
  },
  {
   "cell_type": "code",
   "execution_count": null,
   "metadata": {},
   "outputs": [],
   "source": [
    "label_encoder = LabelEncoder()\n",
    "accuracies = []\n",
    "model = DecisionTreeClassifier()\n",
    "\n",
    "for i in range(2, 11):\n",
    "    train_years = range(1,i)\n",
    "    test_year = i\n",
    "\n",
    "    train_data = df[df['year'].isin(train_years)]\n",
    "    #print(\"============================================================================\")\n",
    "    #print(train_data)\n",
    "    replace_data = df[df['year'] == test_year-1]\n",
    "    test_data = df[df['year'] == test_year]\n",
    "    #print(test_data)\n",
    "    #print(\"============================================================================\")\n",
    "\n",
    "    # replace data with last years data\n",
    "    key_columns = ['tmID_encoded', 'playerID_encoded']\n",
    "    \n",
    "    for index, current_row in test_data.iterrows():\n",
    "        common_key = tuple(current_row[key_columns])\n",
    "\n",
    "        # Check if there's a matching entry in the previous year's dataframe\n",
    "        matching_entry = replace_data[(replace_data[key_columns[0]] == current_row[key_columns[0]]) & (replace_data[key_columns[1]] == current_row[key_columns[1]])]\n",
    "\n",
    "        if not matching_entry.empty:\n",
    "            # Replace values in columns_to_replace with data from the matching entry\n",
    "            for column in features_to_replace:\n",
    "                test_data.at[index, column] = matching_entry.iloc[0][column]\n",
    "        else:\n",
    "            # Remove the row if there is no matching entry\n",
    "            test_data.drop(index, inplace=True)\n",
    "    \n",
    "    #print(test_data)\n",
    "\n",
    "    y_train = train_data['playoff']\n",
    "    y_test = test_data['playoff']\n",
    "\n",
    "    # Prepare the data for training and testing using unaggregated feature data (X)\n",
    "    X_train, X_test = train_data[feature_cols], test_data[feature_cols]\n",
    "\n",
    "    # Train your model (e.g., Random Forest)\n",
    "    model.fit(X_train, y_train)\n",
    "\n",
    "    # Make predictions for individual players\n",
    "    player_predictions = model.predict(X_test)\n",
    "\n",
    "\n",
    "    # Evaluate the model using the encoded labels\n",
    "    accuracy = accuracy_score(y_test, player_predictions)\n",
    "    accuracies.append(accuracy)\n"
   ]
  },
  {
   "cell_type": "code",
   "execution_count": null,
   "metadata": {},
   "outputs": [],
   "source": [
    "print(accuracies, ' ')\n",
    "print(sum(accuracies)/9)"
   ]
  },
  {
   "cell_type": "code",
   "execution_count": null,
   "metadata": {},
   "outputs": [],
   "source": [
    "dot_data = export_graphviz(model, out_file=None,\n",
    "                          feature_names=X_train.columns, # Specify your feature names\n",
    "                          class_names=['No Playoff', 'Playoff'], # Specify your class names\n",
    "                          filled=True, rounded=True, special_characters=True)\n",
    "\n",
    "graph = graphviz.Source(dot_data)\n",
    "graph.render(\"decision_tree\") # This will save the tree as 'decision_tree.pdf'\n",
    "graph.view(\"decision_tree\")   # This will open the tree in your default PDF viewer\n"
   ]
  }
 ],
 "metadata": {
  "kernelspec": {
   "display_name": "Python 3",
   "language": "python",
   "name": "python3"
  },
  "language_info": {
   "codemirror_mode": {
    "name": "ipython",
    "version": 3
   },
   "file_extension": ".py",
   "mimetype": "text/x-python",
   "name": "python",
   "nbconvert_exporter": "python",
   "pygments_lexer": "ipython3",
   "version": "3.11.5"
  }
 },
 "nbformat": 4,
 "nbformat_minor": 2
}
