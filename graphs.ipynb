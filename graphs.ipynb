{
 "cells": [
  {
   "cell_type": "code",
   "execution_count": null,
   "metadata": {},
   "outputs": [],
   "source": [
    "import pandas as pd\n",
    "import matplotlib.pyplot as plt\n",
    "\n",
    "# Load the CSV file into a DataFrame\n",
    "df = pd.read_csv('dataset_edited/awards_players_abrev.csv')\n",
    "\n",
    "# Assuming the CSV has columns named 'X' and 'Y' (replace with your actual column names)\n",
    "# For example, if you have 'age' and 'score' columns, replace 'X' and 'Y' accordingly.\n",
    "\n",
    "# Create a scatter plot\n",
    "plt.scatter(df['X'], df['Y'])\n",
    "plt.title('Point Chart (Scatter Plot)')\n",
    "plt.xlabel('Player Id')\n",
    "plt.ylabel('Award')\n",
    "plt.xticks(fontsize=8, rotation=90)  # Adjust the fontsize and rotation as needed\n",
    "plt.show()"
   ]
  },
  {
   "cell_type": "code",
   "execution_count": null,
   "metadata": {},
   "outputs": [],
   "source": []
  }
 ],
 "metadata": {
  "language_info": {
   "name": "python"
  },
  "orig_nbformat": 4
 },
 "nbformat": 4,
 "nbformat_minor": 2
}
