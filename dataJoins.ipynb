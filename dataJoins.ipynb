{
 "cells": [
  {
   "cell_type": "code",
   "execution_count": null,
   "metadata": {},
   "outputs": [],
   "source": [
    "import pandas as pd\n",
    "from datetime import datetime"
   ]
  },
  {
   "cell_type": "code",
   "execution_count": null,
   "metadata": {},
   "outputs": [],
   "source": [
    "players = pd.read_csv('dataset_edited/players.csv')\n",
    "players.rename(columns={'bioID': 'playerID'}, inplace=True)\n",
    "players"
   ]
  },
  {
   "cell_type": "code",
   "execution_count": null,
   "metadata": {},
   "outputs": [],
   "source": [
    "players_awards = pd.read_csv('dataset_edited/awards_players_abrev.csv')\n",
    "players_awards"
   ]
  },
  {
   "cell_type": "code",
   "execution_count": null,
   "metadata": {},
   "outputs": [],
   "source": [
    "coach_awards = players_awards[players_awards['award'] == 'COTY']\n",
    "players_awards = players_awards[players_awards['award'] != 'COTY']\n",
    "coach_awards = coach_awards.rename(columns={'playerID': 'coachID', 'award':'coachAward'})\n",
    "coach_awards = coach_awards.reset_index()\n",
    "coach_awards = coach_awards.drop('index', axis=1)\n",
    "players_awards = players_awards.reset_index()\n",
    "players_awards = players_awards.drop('index', axis=1)\n",
    "coach_awards"
   ]
  },
  {
   "cell_type": "code",
   "execution_count": null,
   "metadata": {},
   "outputs": [],
   "source": [
    "players_awards"
   ]
  },
  {
   "cell_type": "code",
   "execution_count": null,
   "metadata": {},
   "outputs": [],
   "source": [
    "coaches = pd.read_csv('dataset_edited/coaches.csv')\n",
    "coaches = coaches.set_index(['tmID', 'year'])\n",
    "\n",
    "coaches.rename(columns={'stint': 'coachStint', 'won':'coachWon', 'lost':'coachLost', 'W/L Ratio': 'coach W/L Ratio'}, inplace=True)\n",
    "coaches"
   ]
  },
  {
   "cell_type": "code",
   "execution_count": null,
   "metadata": {},
   "outputs": [],
   "source": [
    "teams = pd.read_csv('dataset_edited/teams.csv')\n",
    "teams = teams.set_index(['tmID', 'year'])\n",
    "teams"
   ]
  },
  {
   "cell_type": "code",
   "execution_count": null,
   "metadata": {},
   "outputs": [],
   "source": [
    "teamsCoachesComb = coaches.join(teams, how='inner')\n",
    "teamsCoachesComb"
   ]
  },
  {
   "cell_type": "code",
   "execution_count": null,
   "metadata": {},
   "outputs": [],
   "source": [
    "# playerAwardsComb and playerTeams\n",
    "playerTeams = pd.read_csv('dataset_edited/players_teams_w_percentages_wo_post.csv')\n",
    "playerTeams.set_index('playerID', inplace=True)\n",
    "playerTeams"
   ]
  },
  {
   "cell_type": "code",
   "execution_count": null,
   "metadata": {},
   "outputs": [],
   "source": [
    "\n",
    "players = players.set_index('playerID')\n",
    "\n",
    "playersTeamsComb = playerTeams.join(players, how='inner')\n",
    "#playersTeamsComb.to_csv('playersTeamsComb.csv')\n",
    "playersTeamsComb"
   ]
  },
  {
   "cell_type": "code",
   "execution_count": null,
   "metadata": {},
   "outputs": [],
   "source": [
    "players_awards = players_awards.set_index(['playerID', 'year'])\n",
    "playersTeamsComb = playersTeamsComb.reset_index().set_index(['playerID', 'year'])\n",
    "playersTeamsAwardsComb = playersTeamsComb.join(players_awards , how='left')\n",
    "playersTeamsAwardsComb"
   ]
  },
  {
   "cell_type": "code",
   "execution_count": null,
   "metadata": {},
   "outputs": [],
   "source": [
    "teamsCoachesComb = teamsCoachesComb.reset_index().set_index(['coachID', 'year'])\n",
    "coach_awards = coach_awards.reset_index().set_index(['coachID', 'year'])\n",
    "\n",
    "teamsCoachesAwardsComb = teamsCoachesComb.join(coach_awards, how='left')\n",
    "teamsCoachesAwardsComb"
   ]
  },
  {
   "cell_type": "code",
   "execution_count": null,
   "metadata": {},
   "outputs": [],
   "source": [
    "teamsCoachesAwardsComb = teamsCoachesAwardsComb.reset_index().set_index(['tmID', 'year'])\n",
    "playersTeamsAwardsComb = playersTeamsAwardsComb.reset_index().set_index(['tmID', 'year'])\n",
    "\n",
    "allComb = playersTeamsAwardsComb.join(teamsCoachesAwardsComb, how='inner')\n",
    "\n",
    "allComb = allComb.drop('index', axis=1)\n",
    "allComb['coachAward'] = allComb['coachAward'].fillna(0).replace('COTY', 1)\n",
    "allComb"
   ]
  },
  {
   "cell_type": "code",
   "execution_count": null,
   "metadata": {},
   "outputs": [],
   "source": [
    "allComb.to_csv('combinedData.csv', index=False)"
   ]
  }
 ],
 "metadata": {
  "kernelspec": {
   "display_name": "Python 3",
   "language": "python",
   "name": "python3"
  },
  "language_info": {
   "codemirror_mode": {
    "name": "ipython",
    "version": 3
   },
   "file_extension": ".py",
   "mimetype": "text/x-python",
   "name": "python",
   "nbconvert_exporter": "python",
   "pygments_lexer": "ipython3",
   "version": "3.11.5"
  },
  "orig_nbformat": 4
 },
 "nbformat": 4,
 "nbformat_minor": 2
}
